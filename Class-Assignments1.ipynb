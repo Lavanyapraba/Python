{
 "cells": [
  {
   "cell_type": "code",
   "execution_count": 3,
   "id": "2db4e16c-a4b3-44f9-8851-43eb850d478d",
   "metadata": {},
   "outputs": [],
   "source": [
    "from FunLibrary import multifunction"
   ]
  },
  {
   "cell_type": "code",
   "execution_count": 5,
   "id": "f6383cec-ebc0-4c75-9629-456de0d3f4d8",
   "metadata": {},
   "outputs": [
    {
     "name": "stdout",
     "output_type": "stream",
     "text": [
      "Subfields in AI are\n",
      "Machine Learning\n",
      "Neural Networks\n",
      "Vision\n",
      "Robotics\n",
      "Speech Processing\n",
      "Natural Language Processing\n"
     ]
    }
   ],
   "source": [
    "multifunction.subfields()"
   ]
  },
  {
   "cell_type": "code",
   "execution_count": 7,
   "id": "c7266f02-0f04-42ee-a6f9-c617726201e2",
   "metadata": {},
   "outputs": [
    {
     "name": "stdin",
     "output_type": "stream",
     "text": [
      "Enter a number 34256\n"
     ]
    },
    {
     "name": "stdout",
     "output_type": "stream",
     "text": [
      "34256 is a Even number\n"
     ]
    }
   ],
   "source": [
    "multifunction.OddEven()"
   ]
  },
  {
   "cell_type": "code",
   "execution_count": 9,
   "id": "3f444ddf-0ebd-4fd1-b2d9-ce506c6a1953",
   "metadata": {},
   "outputs": [
    {
     "name": "stdin",
     "output_type": "stream",
     "text": [
      "Your Gender: Male\n",
      "Your Age: 21\n"
     ]
    },
    {
     "name": "stdout",
     "output_type": "stream",
     "text": [
      "Eligible\n"
     ]
    }
   ],
   "source": [
    "multifunction.Elegible()"
   ]
  },
  {
   "cell_type": "code",
   "execution_count": 11,
   "id": "f8e017b0-716b-496f-abf2-d643ae1b7254",
   "metadata": {},
   "outputs": [
    {
     "name": "stdin",
     "output_type": "stream",
     "text": [
      "Subject1= 93\n",
      "Subject2= 87\n",
      "Subject3= 95\n",
      "Subject4= 95\n",
      "Subject5= 93\n"
     ]
    },
    {
     "name": "stdout",
     "output_type": "stream",
     "text": [
      "Total: 463\n",
      "Percentage: 92.6\n"
     ]
    }
   ],
   "source": [
    "multifunction.percentage()"
   ]
  },
  {
   "cell_type": "code",
   "execution_count": 13,
   "id": "e70c62af-4d0e-41f5-a972-370a0723eaa4",
   "metadata": {},
   "outputs": [
    {
     "name": "stdin",
     "output_type": "stream",
     "text": [
      "Height: 32\n",
      "Breadth: 34\n"
     ]
    },
    {
     "name": "stdout",
     "output_type": "stream",
     "text": [
      "Area formula:(Height*Breadth)/2\n",
      "Area of Triangle: 544.0\n"
     ]
    },
    {
     "name": "stdin",
     "output_type": "stream",
     "text": [
      "Height1: 2\n",
      "Height2: 4\n",
      "Breadth2: 4\n"
     ]
    },
    {
     "name": "stdout",
     "output_type": "stream",
     "text": [
      "Perimeter formula:Height1+Height2+Breadth2\n",
      "perimeter of Triangle: 10\n"
     ]
    }
   ],
   "source": [
    "multifunction.triangle()"
   ]
  },
  {
   "cell_type": "code",
   "execution_count": null,
   "id": "411dd8f9-465c-4ee2-ac64-c964ff28a344",
   "metadata": {},
   "outputs": [],
   "source": []
  }
 ],
 "metadata": {
  "kernelspec": {
   "display_name": "Python 3 (ipykernel)",
   "language": "python",
   "name": "python3"
  },
  "language_info": {
   "codemirror_mode": {
    "name": "ipython",
    "version": 3
   },
   "file_extension": ".py",
   "mimetype": "text/x-python",
   "name": "python",
   "nbconvert_exporter": "python",
   "pygments_lexer": "ipython3",
   "version": "3.12.4"
  }
 },
 "nbformat": 4,
 "nbformat_minor": 5
}
