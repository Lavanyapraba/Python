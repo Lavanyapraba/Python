{
 "cells": [
  {
   "cell_type": "code",
   "execution_count": 1,
   "id": "626303e1-1115-4dc2-aabd-6aecdeebdf69",
   "metadata": {},
   "outputs": [],
   "source": [
    "def OddEven():\n",
    "    num=int(input(\"Enter a number\"))\n",
    "    if(num%2==0):\n",
    "        print(num,\"is a Even number\")\n",
    "        result=\"Even number\"\n",
    "    else:\n",
    "        print(num,\"is a Odd number\")\n",
    "        result=\"Odd number\""
   ]
  },
  {
   "cell_type": "code",
   "execution_count": 2,
   "id": "22e256cb-f4c5-4ca1-9e84-7fb216339b78",
   "metadata": {},
   "outputs": [
    {
     "name": "stdin",
     "output_type": "stream",
     "text": [
      "Enter a number 52452\n"
     ]
    },
    {
     "name": "stdout",
     "output_type": "stream",
     "text": [
      "52452 is a Even number\n"
     ]
    }
   ],
   "source": [
    "OddEven()"
   ]
  },
  {
   "cell_type": "code",
   "execution_count": 3,
   "id": "7e6cffdc-c79d-4701-aef4-00ca8fcc225a",
   "metadata": {},
   "outputs": [],
   "source": [
    "def Elegible():\n",
    "    Gender=input(\"Your Gender:\")\n",
    "    Age=int(input(\"Your age:\"))\n",
    "    \n",
    "    if(Age<23):\n",
    "        print(\"NOT ELIGIBLE\")\n",
    "        cate=\"NOT ELIGIBLE\"\n",
    "    else:\n",
    "        print(\"ELIGIBLE\")\n",
    "        cate=\"ELIGIBLE\""
   ]
  },
  {
   "cell_type": "code",
   "execution_count": 4,
   "id": "bded5043-413d-4d11-902d-0bb801a6532c",
   "metadata": {},
   "outputs": [
    {
     "name": "stdin",
     "output_type": "stream",
     "text": [
      "Your Gender: Male\n",
      "Your age: 20\n"
     ]
    },
    {
     "name": "stdout",
     "output_type": "stream",
     "text": [
      "NOT ELIGIBLE\n"
     ]
    }
   ],
   "source": [
    "Elegible()"
   ]
  },
  {
   "cell_type": "code",
   "execution_count": 5,
   "id": "a4bbe1e4-9fa3-45d1-9837-eb6b2d47fb1c",
   "metadata": {},
   "outputs": [],
   "source": [
    "def percentage():\n",
    "    subject1=int(input(\"Subject1=\"))\n",
    "    subject2=int(input(\"Subject2=\"))\n",
    "    subject3=int(input(\"Subject3=\"))\n",
    "    subject4=int(input(\"Subject4=\"))\n",
    "    subject5=int(input(\"Subject5=\"))\n",
    "    Total=(subject1+subject2+ subject3+ subject4+subject5)\n",
    "    print(\"Total:\",Total)\n",
    "    mark=\"Total\"\n",
    "    Percentage=((subject1+subject2+ subject3+ subject4+subject5)/5)\n",
    "    print(\"Percentage:\",Percentage)\n",
    "    mark=\"Percentage\""
   ]
  },
  {
   "cell_type": "code",
   "execution_count": 6,
   "id": "7bb1d2e8-6f8b-48b4-9769-7b954bc37d1d",
   "metadata": {},
   "outputs": [
    {
     "name": "stdin",
     "output_type": "stream",
     "text": [
      "Subject1= 98\n",
      "Subject2= 87\n",
      "Subject3= 95\n",
      "Subject4= 95\n",
      "Subject5= 93\n"
     ]
    },
    {
     "name": "stdout",
     "output_type": "stream",
     "text": [
      "Total: 468\n",
      "Percentage: 93.6\n"
     ]
    }
   ],
   "source": [
    "percentage()"
   ]
  },
  {
   "cell_type": "code",
   "execution_count": 3,
   "id": "50efdf93-c1f2-4416-9429-3af991eba4a0",
   "metadata": {},
   "outputs": [],
   "source": [
    "def triangle():\n",
    "    Height=int(input(\"Height:\"))\n",
    "    Breadth=int(input(\"Breadth:\"))\n",
    "    Area=(Height*Breadth)/2\n",
    "    print(\"Area formula:(Height*Breadth)/2\")\n",
    "    print(\"Area of Triangle:\",Area)\n",
    "    measure=\"Area of Triangle\"\n",
    "    Height1=int(input(\"Height1:\"))\n",
    "    Height2=int(input(\"Height2:\"))\n",
    "    Breadth2=int(input(\"Breadth2:\"))\n",
    "    print(\"Perimeter formula:Height1+Height2+Breadth2\")\n",
    "    perimeter=(Height1+Height2+Breadth2)\n",
    "    print(\"perimeter of Triangle:\",perimeter)\n",
    "    measure=\"perimeter of Triangle\"\n",
    "    "
   ]
  },
  {
   "cell_type": "code",
   "execution_count": 5,
   "id": "2bbd682b-8ea7-4354-b620-919a6bc66524",
   "metadata": {},
   "outputs": [
    {
     "name": "stdin",
     "output_type": "stream",
     "text": [
      "Height: 32\n",
      "Breadth: 34\n"
     ]
    },
    {
     "name": "stdout",
     "output_type": "stream",
     "text": [
      "Area formula:(Height*Breadth)/2\n",
      "Area of Triangle: 544.0\n"
     ]
    },
    {
     "name": "stdin",
     "output_type": "stream",
     "text": [
      "Height1: 2\n",
      "Height2: 4\n",
      "Breadth2: 4\n"
     ]
    },
    {
     "name": "stdout",
     "output_type": "stream",
     "text": [
      "Perimeter formula:Height1+Height2+Breadth2\n",
      "perimeter of Triangle: 10\n"
     ]
    }
   ],
   "source": [
    "triangle()"
   ]
  },
  {
   "cell_type": "code",
   "execution_count": 19,
   "id": "f392c848-c8ce-4611-8fe1-497537e8265f",
   "metadata": {},
   "outputs": [],
   "source": [
    "def subfields():\n",
    "    print(\"Subfields in AI are:\")\n",
    "    Subfield1=print(\"Machine Learning\")\n",
    "    subfield=\"Subfield1\"\n",
    "    Subfield2=print(\"Neural Networks\")\n",
    "    subfield=\"Subfield2\"\n",
    "    Subfield3=print(\"Vision\")\n",
    "    subfield=\"Subfield3\"\n",
    "    Subfield4=print(\"Robotics\")\n",
    "    subfield=\"Subfield4\"\n",
    "    Subfield5=print(\"Speech Processing\")\n",
    "    subfield=\"Subfield5\"\n",
    "    Subfield6=print(\"Natural Language Processing\")\n",
    "    subfield=\"Subfield6\"\n",
    "    "
   ]
  },
  {
   "cell_type": "code",
   "execution_count": 21,
   "id": "3257fb83-edc3-4a95-be48-6057ec63fff0",
   "metadata": {},
   "outputs": [
    {
     "name": "stdout",
     "output_type": "stream",
     "text": [
      "Subfields in AI are:\n",
      "Machine Learning\n",
      "Neural Networks\n",
      "Vision\n",
      "Robotics\n",
      "Speech Processing\n",
      "Natural Language Processing\n"
     ]
    }
   ],
   "source": [
    "subfields()"
   ]
  },
  {
   "cell_type": "code",
   "execution_count": null,
   "id": "fe05ba6e-b79e-4747-b84c-0bf2074a395f",
   "metadata": {},
   "outputs": [],
   "source": []
  }
 ],
 "metadata": {
  "kernelspec": {
   "display_name": "Python 3 (ipykernel)",
   "language": "python",
   "name": "python3"
  },
  "language_info": {
   "codemirror_mode": {
    "name": "ipython",
    "version": 3
   },
   "file_extension": ".py",
   "mimetype": "text/x-python",
   "name": "python",
   "nbconvert_exporter": "python",
   "pygments_lexer": "ipython3",
   "version": "3.12.4"
  }
 },
 "nbformat": 4,
 "nbformat_minor": 5
}
